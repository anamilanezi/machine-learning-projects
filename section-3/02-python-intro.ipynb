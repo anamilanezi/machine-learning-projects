{
 "cells": [
  {
   "cell_type": "code",
   "execution_count": 1,
   "id": "d521d513",
   "metadata": {},
   "outputs": [],
   "source": [
    "import pandas as pd\n",
    "import matplotlib.pyplot as plt\n",
    "from sklearn.linear_model import LinearRegression\n",
    "\n",
    "data = pd.read_csv('data/lsd_math_score_data.csv')"
   ]
  },
  {
   "cell_type": "code",
   "execution_count": 2,
   "id": "d0af0403",
   "metadata": {},
   "outputs": [
    {
     "name": "stdout",
     "output_type": "stream",
     "text": [
      "   Time_Delay_in_Minutes  LSD_ppm  Avg_Math_Test_Score\n",
      "0                      5     1.17                78.93\n",
      "1                     15     2.97                58.20\n",
      "2                     30     3.26                67.47\n",
      "3                     60     4.69                37.47\n",
      "4                    120     5.83                45.65\n",
      "5                    240     6.00                32.92\n",
      "6                    480     6.41                29.97\n"
     ]
    }
   ],
   "source": [
    "print(data)"
   ]
  },
  {
   "cell_type": "code",
   "execution_count": 3,
   "id": "87a18f68",
   "metadata": {},
   "outputs": [
    {
     "data": {
      "text/plain": [
       "pandas.core.frame.DataFrame"
      ]
     },
     "execution_count": 3,
     "metadata": {},
     "output_type": "execute_result"
    }
   ],
   "source": [
    "type(data)"
   ]
  },
  {
   "cell_type": "markdown",
   "id": "98d44d28",
   "metadata": {},
   "source": [
    "# DataFrames"
   ]
  },
  {
   "cell_type": "markdown",
   "id": "3326ec6c",
   "metadata": {},
   "source": [
    "### ✅ Selecting a single column from DataFrame:"
   ]
  },
  {
   "cell_type": "code",
   "execution_count": 4,
   "id": "92ba13bd",
   "metadata": {
    "scrolled": false
   },
   "outputs": [
    {
     "name": "stdout",
     "output_type": "stream",
     "text": [
      "0    78.93\n",
      "1    58.20\n",
      "2    67.47\n",
      "3    37.47\n",
      "4    45.65\n",
      "5    32.92\n",
      "6    29.97\n",
      "Name: Avg_Math_Test_Score, dtype: float64\n"
     ]
    }
   ],
   "source": [
    "only_math_scores = data['Avg_Math_Test_Score']\n",
    "print(only_math_scores)"
   ]
  },
  {
   "cell_type": "markdown",
   "id": "475dc41d",
   "metadata": {},
   "source": [
    "### ✅ Adding a New Colum to existing DataFrame:"
   ]
  },
  {
   "cell_type": "code",
   "execution_count": 5,
   "id": "a7c16700",
   "metadata": {},
   "outputs": [
    {
     "name": "stdout",
     "output_type": "stream",
     "text": [
      "   Time_Delay_in_Minutes  LSD_ppm  Avg_Math_Test_Score Test_Subject\n",
      "0                      5     1.17                78.93     Rita Lee\n",
      "1                     15     2.97                58.20     Rita Lee\n",
      "2                     30     3.26                67.47     Rita Lee\n",
      "3                     60     4.69                37.47     Rita Lee\n",
      "4                    120     5.83                45.65     Rita Lee\n",
      "5                    240     6.00                32.92     Rita Lee\n",
      "6                    480     6.41                29.97     Rita Lee\n"
     ]
    }
   ],
   "source": [
    "data['Test_Subject'] = 'Rita Lee'\n",
    "print(data)"
   ]
  },
  {
   "cell_type": "markdown",
   "id": "7f2f0c6c",
   "metadata": {},
   "source": [
    "### ✅ How to manipulate the values of a column\n",
    "\n",
    "For example, do calculations on all the values in a single column at the same time"
   ]
  },
  {
   "cell_type": "code",
   "execution_count": 6,
   "id": "348b45cb",
   "metadata": {},
   "outputs": [],
   "source": [
    "# Setting a new column with all rows containing the value 100\n",
    "data['High_Score'] = 100"
   ]
  },
  {
   "cell_type": "code",
   "execution_count": 7,
   "id": "04df1df1",
   "metadata": {
    "scrolled": true
   },
   "outputs": [
    {
     "name": "stdout",
     "output_type": "stream",
     "text": [
      "   Time_Delay_in_Minutes  LSD_ppm  Avg_Math_Test_Score Test_Subject  \\\n",
      "0                      5     1.17                78.93     Rita Lee   \n",
      "1                     15     2.97                58.20     Rita Lee   \n",
      "2                     30     3.26                67.47     Rita Lee   \n",
      "3                     60     4.69                37.47     Rita Lee   \n",
      "4                    120     5.83                45.65     Rita Lee   \n",
      "5                    240     6.00                32.92     Rita Lee   \n",
      "6                    480     6.41                29.97     Rita Lee   \n",
      "\n",
      "   High_Score  \n",
      "0         100  \n",
      "1         100  \n",
      "2         100  \n",
      "3         100  \n",
      "4         100  \n",
      "5         100  \n",
      "6         100  \n"
     ]
    }
   ],
   "source": [
    "print(data)"
   ]
  },
  {
   "cell_type": "code",
   "execution_count": 8,
   "id": "668fd50c",
   "metadata": {},
   "outputs": [],
   "source": [
    "# Adding the avg score to column current value\n",
    "data['High_Score'] = data['High_Score'] + data['Avg_Math_Test_Score']"
   ]
  },
  {
   "cell_type": "code",
   "execution_count": 9,
   "id": "d746d7c3",
   "metadata": {},
   "outputs": [
    {
     "name": "stdout",
     "output_type": "stream",
     "text": [
      "   Time_Delay_in_Minutes  LSD_ppm  Avg_Math_Test_Score Test_Subject  \\\n",
      "0                      5     1.17                78.93     Rita Lee   \n",
      "1                     15     2.97                58.20     Rita Lee   \n",
      "2                     30     3.26                67.47     Rita Lee   \n",
      "3                     60     4.69                37.47     Rita Lee   \n",
      "4                    120     5.83                45.65     Rita Lee   \n",
      "5                    240     6.00                32.92     Rita Lee   \n",
      "6                    480     6.41                29.97     Rita Lee   \n",
      "\n",
      "   High_Score  \n",
      "0      178.93  \n",
      "1      158.20  \n",
      "2      167.47  \n",
      "3      137.47  \n",
      "4      145.65  \n",
      "5      132.92  \n",
      "6      129.97  \n"
     ]
    }
   ],
   "source": [
    "print(data)"
   ]
  },
  {
   "cell_type": "code",
   "execution_count": 10,
   "id": "0387fc78",
   "metadata": {},
   "outputs": [
    {
     "name": "stdout",
     "output_type": "stream",
     "text": [
      "   Time_Delay_in_Minutes  LSD_ppm  Avg_Math_Test_Score Test_Subject  \\\n",
      "0                      5     1.17                78.93     Rita Lee   \n",
      "1                     15     2.97                58.20     Rita Lee   \n",
      "2                     30     3.26                67.47     Rita Lee   \n",
      "3                     60     4.69                37.47     Rita Lee   \n",
      "4                    120     5.83                45.65     Rita Lee   \n",
      "5                    240     6.00                32.92     Rita Lee   \n",
      "6                    480     6.41                29.97     Rita Lee   \n",
      "\n",
      "   High_Score  \n",
      "0  32015.9449  \n",
      "1  25027.2400  \n",
      "2  28046.2009  \n",
      "3  18898.0009  \n",
      "4  21213.9225  \n",
      "5  17667.7264  \n",
      "6  16892.2009  \n"
     ]
    }
   ],
   "source": [
    "data['High_Score'] *= data['High_Score']\n",
    "print(data)"
   ]
  },
  {
   "cell_type": "markdown",
   "id": "7584df81",
   "metadata": {},
   "source": [
    "## Series"
   ]
  },
  {
   "cell_type": "markdown",
   "id": "a6f8ea32",
   "metadata": {},
   "source": [
    "A dataframe is a collection of the **Series** pandas type. Each column in the DataFrame is a Series, so this means we can create a new DataFrame selecting only the series of interest."
   ]
  },
  {
   "cell_type": "code",
   "execution_count": 11,
   "id": "4ca6a784",
   "metadata": {},
   "outputs": [
    {
     "name": "stdout",
     "output_type": "stream",
     "text": [
      "   LSD_ppm  Avg_Math_Test_Score\n",
      "0     1.17                78.93\n",
      "1     2.97                58.20\n",
      "2     3.26                67.47\n",
      "3     4.69                37.47\n",
      "4     5.83                45.65\n",
      "5     6.00                32.92\n",
      "6     6.41                29.97\n"
     ]
    }
   ],
   "source": [
    "# column_list = ['LSD_ppm', 'Avg_Math_Test_Score']\n",
    "# clean_data = data[column_list]   \n",
    "clean_data = data[['LSD_ppm', 'Avg_Math_Test_Score']]\n",
    "print(clean_data)"
   ]
  },
  {
   "cell_type": "markdown",
   "id": "e27543b5",
   "metadata": {},
   "source": [
    "This means that, to create a single column DataFrame we just need to pass a list inside the square brackets."
   ]
  },
  {
   "cell_type": "code",
   "execution_count": 12,
   "id": "c0dea34f",
   "metadata": {},
   "outputs": [],
   "source": [
    "y = data[['Avg_Math_Test_Score']]"
   ]
  },
  {
   "cell_type": "code",
   "execution_count": 13,
   "id": "19ca350a",
   "metadata": {},
   "outputs": [
    {
     "name": "stdout",
     "output_type": "stream",
     "text": [
      "   LSD_ppm\n",
      "0     1.17\n",
      "1     2.97\n",
      "2     3.26\n",
      "3     4.69\n",
      "4     5.83\n",
      "5     6.00\n",
      "6     6.41\n"
     ]
    },
    {
     "data": {
      "text/plain": [
       "pandas.core.frame.DataFrame"
      ]
     },
     "execution_count": 13,
     "metadata": {},
     "output_type": "execute_result"
    }
   ],
   "source": [
    "X = data[['LSD_ppm']]\n",
    "print(X)\n",
    "type(X)"
   ]
  },
  {
   "cell_type": "markdown",
   "id": "a5de3b0d",
   "metadata": {},
   "source": [
    "### ✅ How to delete a column from DataFrame"
   ]
  },
  {
   "cell_type": "code",
   "execution_count": 14,
   "id": "df37bd6e",
   "metadata": {},
   "outputs": [
    {
     "name": "stdout",
     "output_type": "stream",
     "text": [
      "   Time_Delay_in_Minutes  LSD_ppm  Avg_Math_Test_Score  High_Score\n",
      "0                      5     1.17                78.93  32015.9449\n",
      "1                     15     2.97                58.20  25027.2400\n",
      "2                     30     3.26                67.47  28046.2009\n",
      "3                     60     4.69                37.47  18898.0009\n",
      "4                    120     5.83                45.65  21213.9225\n",
      "5                    240     6.00                32.92  17667.7264\n",
      "6                    480     6.41                29.97  16892.2009\n"
     ]
    }
   ],
   "source": [
    "del data['Test_Subject']\n",
    "print(data)"
   ]
  },
  {
   "cell_type": "code",
   "execution_count": 15,
   "id": "618985fc",
   "metadata": {},
   "outputs": [
    {
     "name": "stdout",
     "output_type": "stream",
     "text": [
      "   Time_Delay_in_Minutes  LSD_ppm  Avg_Math_Test_Score\n",
      "0                      5     1.17                78.93\n",
      "1                     15     2.97                58.20\n",
      "2                     30     3.26                67.47\n",
      "3                     60     4.69                37.47\n",
      "4                    120     5.83                45.65\n",
      "5                    240     6.00                32.92\n",
      "6                    480     6.41                29.97\n"
     ]
    }
   ],
   "source": [
    "del data['High_Score']\n",
    "print(data)"
   ]
  },
  {
   "cell_type": "code",
   "execution_count": 16,
   "id": "f099b44f",
   "metadata": {},
   "outputs": [],
   "source": [
    "import math"
   ]
  },
  {
   "cell_type": "code",
   "execution_count": 17,
   "id": "5f6500cb",
   "metadata": {},
   "outputs": [],
   "source": [
    "pi = math.pi"
   ]
  },
  {
   "cell_type": "code",
   "execution_count": 18,
   "id": "0189c4b2",
   "metadata": {},
   "outputs": [
    {
     "name": "stdout",
     "output_type": "stream",
     "text": [
      "3.141592653589793\n"
     ]
    }
   ],
   "source": [
    "print(pi)"
   ]
  },
  {
   "cell_type": "code",
   "execution_count": 19,
   "id": "59fbe269",
   "metadata": {},
   "outputs": [
    {
     "name": "stdout",
     "output_type": "stream",
     "text": [
      "2.718281828459045\n"
     ]
    }
   ],
   "source": [
    "e = math.e\n",
    "print(e)"
   ]
  },
  {
   "cell_type": "code",
   "execution_count": 20,
   "id": "a9010654",
   "metadata": {},
   "outputs": [
    {
     "data": {
      "text/html": [
       "<div>\n",
       "<style scoped>\n",
       "    .dataframe tbody tr th:only-of-type {\n",
       "        vertical-align: middle;\n",
       "    }\n",
       "\n",
       "    .dataframe tbody tr th {\n",
       "        vertical-align: top;\n",
       "    }\n",
       "\n",
       "    .dataframe thead th {\n",
       "        text-align: right;\n",
       "    }\n",
       "</style>\n",
       "<table border=\"1\" class=\"dataframe\">\n",
       "  <thead>\n",
       "    <tr style=\"text-align: right;\">\n",
       "      <th></th>\n",
       "      <th>Time_Delay_in_Minutes</th>\n",
       "      <th>LSD_ppm</th>\n",
       "      <th>Avg_Math_Test_Score</th>\n",
       "    </tr>\n",
       "  </thead>\n",
       "  <tbody>\n",
       "    <tr>\n",
       "      <th>0</th>\n",
       "      <td>5</td>\n",
       "      <td>1.17</td>\n",
       "      <td>78.93</td>\n",
       "    </tr>\n",
       "    <tr>\n",
       "      <th>1</th>\n",
       "      <td>15</td>\n",
       "      <td>2.97</td>\n",
       "      <td>58.20</td>\n",
       "    </tr>\n",
       "    <tr>\n",
       "      <th>2</th>\n",
       "      <td>30</td>\n",
       "      <td>3.26</td>\n",
       "      <td>67.47</td>\n",
       "    </tr>\n",
       "    <tr>\n",
       "      <th>3</th>\n",
       "      <td>60</td>\n",
       "      <td>4.69</td>\n",
       "      <td>37.47</td>\n",
       "    </tr>\n",
       "    <tr>\n",
       "      <th>4</th>\n",
       "      <td>120</td>\n",
       "      <td>5.83</td>\n",
       "      <td>45.65</td>\n",
       "    </tr>\n",
       "    <tr>\n",
       "      <th>5</th>\n",
       "      <td>240</td>\n",
       "      <td>6.00</td>\n",
       "      <td>32.92</td>\n",
       "    </tr>\n",
       "    <tr>\n",
       "      <th>6</th>\n",
       "      <td>480</td>\n",
       "      <td>6.41</td>\n",
       "      <td>29.97</td>\n",
       "    </tr>\n",
       "  </tbody>\n",
       "</table>\n",
       "</div>"
      ],
      "text/plain": [
       "   Time_Delay_in_Minutes  LSD_ppm  Avg_Math_Test_Score\n",
       "0                      5     1.17                78.93\n",
       "1                     15     2.97                58.20\n",
       "2                     30     3.26                67.47\n",
       "3                     60     4.69                37.47\n",
       "4                    120     5.83                45.65\n",
       "5                    240     6.00                32.92\n",
       "6                    480     6.41                29.97"
      ]
     },
     "execution_count": 20,
     "metadata": {},
     "output_type": "execute_result"
    }
   ],
   "source": [
    "data"
   ]
  },
  {
   "cell_type": "code",
   "execution_count": 64,
   "id": "742a2966",
   "metadata": {},
   "outputs": [],
   "source": [
    "time = data[[\"Time_Delay_in_Minutes\"]]\n",
    "lsd = data[['LSD_ppm']]\n",
    "score = data[['Avg_Math_Test_Score']]\n",
    "\n",
    "LSD = data['LSD_ppm']"
   ]
  },
  {
   "cell_type": "markdown",
   "id": "66cb9d3f",
   "metadata": {},
   "source": [
    "## Plot using matplotlib\n",
    "\n",
    "Style gallery: https://tonysyu.github.io/"
   ]
  },
  {
   "cell_type": "code",
   "execution_count": 22,
   "id": "b2bda856",
   "metadata": {},
   "outputs": [
    {
     "data": {
      "image/png": "[encoded data removed]",
      "text/plain": [
       "<Figure size 432x288 with 1 Axes>"
      ]
     },
     "metadata": {
      "needs_background": "light"
     },
     "output_type": "display_data"
    }
   ],
   "source": [
    "%matplotlib inline\n",
    "\n",
    "plt.title(\"Tissue concentration of LSD over time\", fontsize=16)\n",
    "plt.xlabel('Time in minutes', fontsize=14)\n",
    "plt.ylabel('Tissue LSD ppm', fontsize=14)\n",
    "plt.text(x=3, y=-0.5, s=\"Wagner et al. (1968)\", fontsize=12)\n",
    "\n",
    "plt.plot(time, lsd, color=\"#14868c\", linewidth=3)\n",
    "plt.xticks(fontsize=14)\n",
    "plt.yticks(fontsize=14)\n",
    "\n",
    "plt.ylim(1, 7)\n",
    "plt.xlim(0, 500)\n",
    "\n",
    "plt.style.use(\"ggplot\")\n",
    "\n",
    "plt.show()"
   ]
  },
  {
   "cell_type": "code",
   "execution_count": 24,
   "id": "5036d3f2",
   "metadata": {},
   "outputs": [
    {
     "data": {
      "image/png": "[encoded data removed]",
      "text/plain": [
       "<Figure size 432x288 with 1 Axes>"
      ]
     },
     "metadata": {},
     "output_type": "display_data"
    }
   ],
   "source": [
    "plt.title(\"Average Math Test Score over tissue LSD ppm \", fontsize=16)\n",
    "plt.xlabel('Tissue LSD ppm', fontsize=14)\n",
    "plt.ylabel('Average math test score', fontsize=14)\n",
    "plt.text(x=3, y=-0.5, s=\"Wagner et al. (1968)\", fontsize=12)\n",
    "\n",
    "plt.plot(lsd, score)\n",
    "plt.style.use(\"seaborn-pastel\")\n",
    "plt.show()"
   ]
  },
  {
   "cell_type": "code",
   "execution_count": 35,
   "id": "1de70bc8",
   "metadata": {},
   "outputs": [
    {
     "name": "stdout",
     "output_type": "stream",
     "text": [
      " Theta1: -9.009466415296785\n"
     ]
    }
   ],
   "source": [
    "# Linear regression works with dataframes, not series\n",
    "regr = LinearRegression()\n",
    "regr.fit(lsd, score)\n",
    "# regr.coef_  array([[-9.00946642]])\n",
    "# regr.coef_[0] array([-9.00946642])\n",
    "print(f\" Theta1: {regr.coef_[0][0]}\")"
   ]
  },
  {
   "cell_type": "code",
   "execution_count": 39,
   "id": "3f58e403",
   "metadata": {},
   "outputs": [
    {
     "name": "stdout",
     "output_type": "stream",
     "text": [
      "Intercept: 89.12387376799308\n"
     ]
    }
   ],
   "source": [
    "print(f\"Intercept: {regr.intercept_[0]}\")"
   ]
  },
  {
   "cell_type": "code",
   "execution_count": 41,
   "id": "e4771bcc",
   "metadata": {},
   "outputs": [
    {
     "name": "stdout",
     "output_type": "stream",
     "text": [
      "R-Square: 0.8778349707775889\n"
     ]
    }
   ],
   "source": [
    "# How much of the variation in our data is explained by the amount of drugs in the volunteers tissue\n",
    "# lsd = explanatory variabla\n",
    "# score = dependent variable\n",
    "print(f\"R-Square: {regr.score(lsd, score)}\")"
   ]
  },
  {
   "cell_type": "code",
   "execution_count": 58,
   "id": "df4f237c",
   "metadata": {},
   "outputs": [],
   "source": [
    "predicted_score = regr.predict(lsd)"
   ]
  },
  {
   "cell_type": "markdown",
   "id": "99639cb1",
   "metadata": {},
   "source": [
    "Theta1: -9.009466415296785: For every increase in LSD ppm, volunteers performance was approximately 9% worse than the control"
   ]
  },
  {
   "cell_type": "code",
   "execution_count": 65,
   "id": "d8c3b28d",
   "metadata": {},
   "outputs": [
    {
     "data": {
      "image/png": "[encoded data removed]",
      "text/plain": [
       "<Figure size 432x288 with 1 Axes>"
      ]
     },
     "metadata": {
      "needs_background": "light"
     },
     "output_type": "display_data"
    }
   ],
   "source": [
    "%matplotlib inline\n",
    "\n",
    "plt.title(\"Arithmetic vs LSD-25 \", fontsize=16)\n",
    "plt.xlabel('Tissue LSD ppm', fontsize=14)\n",
    "plt.ylabel('Performance score', fontsize=14)\n",
    "\n",
    "plt.ylim(25, 85)\n",
    "plt.xlim(1, 6.5)\n",
    "\n",
    "plt.scatter(lsd, score, color=\"#70d4b4\", alpha=0.8, s=150)\n",
    "plt.plot(LSD, predicted_score)\n",
    "plt.show()"
   ]
  },
  {
   "cell_type": "code",
   "execution_count": null,
   "id": "29b5c63c",
   "metadata": {},
   "outputs": [],
   "source": []
  }
 ],
 "metadata": {
  "celltoolbar": "Raw Cell Format",
  "kernelspec": {
   "display_name": "Python 3 (ipykernel)",
   "language": "python",
   "name": "python3"
  },
  "language_info": {
   "codemirror_mode": {
    "name": "ipython",
    "version": 3
   },
   "file_extension": ".py",
   "mimetype": "text/x-python",
   "name": "python",
   "nbconvert_exporter": "python",
   "pygments_lexer": "ipython3",
   "version": "3.9.12"
  }
 },
 "nbformat": 4,
 "nbformat_minor": 5
}
