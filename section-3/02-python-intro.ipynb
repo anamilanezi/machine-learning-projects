{
 "cells": [
  {
   "cell_type": "code",
   "execution_count": 39,
   "id": "6d438676",
   "metadata": {},
   "outputs": [],
   "source": [
    "import pandas as pd\n",
    "\n",
    "data = pd.read_csv('data/lsd_math_score_data.csv')"
   ]
  },
  {
   "cell_type": "code",
   "execution_count": 40,
   "id": "c9173ea0",
   "metadata": {},
   "outputs": [
    {
     "name": "stdout",
     "output_type": "stream",
     "text": [
      "   Time_Delay_in_Minutes  LSD_ppm  Avg_Math_Test_Score\n",
      "0                      5     1.17                78.93\n",
      "1                     15     2.97                58.20\n",
      "2                     30     3.26                67.47\n",
      "3                     60     4.69                37.47\n",
      "4                    120     5.83                45.65\n",
      "5                    240     6.00                32.92\n",
      "6                    480     6.41                29.97\n"
     ]
    }
   ],
   "source": [
    "print(data)"
   ]
  },
  {
   "cell_type": "code",
   "execution_count": 41,
   "id": "2debbcb1",
   "metadata": {},
   "outputs": [
    {
     "data": {
      "text/plain": [
       "pandas.core.frame.DataFrame"
      ]
     },
     "execution_count": 41,
     "metadata": {},
     "output_type": "execute_result"
    }
   ],
   "source": [
    "type(data)"
   ]
  },
  {
   "cell_type": "markdown",
   "id": "901c7257",
   "metadata": {},
   "source": [
    "# DataFrames"
   ]
  },
  {
   "cell_type": "markdown",
   "id": "adc14063",
   "metadata": {},
   "source": [
    "### ✅ Selecting a single column from DataFrame:"
   ]
  },
  {
   "cell_type": "code",
   "execution_count": 42,
   "id": "18f2a324",
   "metadata": {
    "scrolled": false
   },
   "outputs": [
    {
     "name": "stdout",
     "output_type": "stream",
     "text": [
      "0    78.93\n",
      "1    58.20\n",
      "2    67.47\n",
      "3    37.47\n",
      "4    45.65\n",
      "5    32.92\n",
      "6    29.97\n",
      "Name: Avg_Math_Test_Score, dtype: float64\n"
     ]
    }
   ],
   "source": [
    "only_math_scores = data['Avg_Math_Test_Score']\n",
    "print(only_math_scores)"
   ]
  },
  {
   "cell_type": "markdown",
   "id": "91aceeda",
   "metadata": {},
   "source": [
    "### ✅ Adding a New Colum to existing DataFrame:"
   ]
  },
  {
   "cell_type": "code",
   "execution_count": 43,
   "id": "3365a21c",
   "metadata": {},
   "outputs": [
    {
     "name": "stdout",
     "output_type": "stream",
     "text": [
      "   Time_Delay_in_Minutes  LSD_ppm  Avg_Math_Test_Score Test_Subject\n",
      "0                      5     1.17                78.93     Rita Lee\n",
      "1                     15     2.97                58.20     Rita Lee\n",
      "2                     30     3.26                67.47     Rita Lee\n",
      "3                     60     4.69                37.47     Rita Lee\n",
      "4                    120     5.83                45.65     Rita Lee\n",
      "5                    240     6.00                32.92     Rita Lee\n",
      "6                    480     6.41                29.97     Rita Lee\n"
     ]
    }
   ],
   "source": [
    "data['Test_Subject'] = 'Rita Lee'\n",
    "print(data)"
   ]
  },
  {
   "cell_type": "markdown",
   "id": "10406348",
   "metadata": {},
   "source": [
    "### ✅ How to manipulate the values of a column\n",
    "\n",
    "For example, do calculations on all the values in a single column at the same time"
   ]
  },
  {
   "cell_type": "code",
   "execution_count": 44,
   "id": "9881d7f9",
   "metadata": {},
   "outputs": [],
   "source": [
    "# Setting a new column with all rows containing the value 100\n",
    "data['High_Score'] = 100"
   ]
  },
  {
   "cell_type": "code",
   "execution_count": 45,
   "id": "705abceb",
   "metadata": {
    "scrolled": true
   },
   "outputs": [
    {
     "name": "stdout",
     "output_type": "stream",
     "text": [
      "   Time_Delay_in_Minutes  LSD_ppm  Avg_Math_Test_Score Test_Subject  \\\n",
      "0                      5     1.17                78.93     Rita Lee   \n",
      "1                     15     2.97                58.20     Rita Lee   \n",
      "2                     30     3.26                67.47     Rita Lee   \n",
      "3                     60     4.69                37.47     Rita Lee   \n",
      "4                    120     5.83                45.65     Rita Lee   \n",
      "5                    240     6.00                32.92     Rita Lee   \n",
      "6                    480     6.41                29.97     Rita Lee   \n",
      "\n",
      "   High_Score  \n",
      "0         100  \n",
      "1         100  \n",
      "2         100  \n",
      "3         100  \n",
      "4         100  \n",
      "5         100  \n",
      "6         100  \n"
     ]
    }
   ],
   "source": [
    "print(data)"
   ]
  },
  {
   "cell_type": "code",
   "execution_count": 46,
   "id": "10b44366",
   "metadata": {},
   "outputs": [],
   "source": [
    "# Adding the avg score to column current value\n",
    "data['High_Score'] = data['High_Score'] + data['Avg_Math_Test_Score']"
   ]
  },
  {
   "cell_type": "code",
   "execution_count": 47,
   "id": "63914251",
   "metadata": {},
   "outputs": [
    {
     "name": "stdout",
     "output_type": "stream",
     "text": [
      "   Time_Delay_in_Minutes  LSD_ppm  Avg_Math_Test_Score Test_Subject  \\\n",
      "0                      5     1.17                78.93     Rita Lee   \n",
      "1                     15     2.97                58.20     Rita Lee   \n",
      "2                     30     3.26                67.47     Rita Lee   \n",
      "3                     60     4.69                37.47     Rita Lee   \n",
      "4                    120     5.83                45.65     Rita Lee   \n",
      "5                    240     6.00                32.92     Rita Lee   \n",
      "6                    480     6.41                29.97     Rita Lee   \n",
      "\n",
      "   High_Score  \n",
      "0      178.93  \n",
      "1      158.20  \n",
      "2      167.47  \n",
      "3      137.47  \n",
      "4      145.65  \n",
      "5      132.92  \n",
      "6      129.97  \n"
     ]
    }
   ],
   "source": [
    "print(data)"
   ]
  },
  {
   "cell_type": "code",
   "execution_count": 48,
   "id": "a85373b0",
   "metadata": {},
   "outputs": [
    {
     "name": "stdout",
     "output_type": "stream",
     "text": [
      "   Time_Delay_in_Minutes  LSD_ppm  Avg_Math_Test_Score Test_Subject  \\\n",
      "0                      5     1.17                78.93     Rita Lee   \n",
      "1                     15     2.97                58.20     Rita Lee   \n",
      "2                     30     3.26                67.47     Rita Lee   \n",
      "3                     60     4.69                37.47     Rita Lee   \n",
      "4                    120     5.83                45.65     Rita Lee   \n",
      "5                    240     6.00                32.92     Rita Lee   \n",
      "6                    480     6.41                29.97     Rita Lee   \n",
      "\n",
      "   High_Score  \n",
      "0  32015.9449  \n",
      "1  25027.2400  \n",
      "2  28046.2009  \n",
      "3  18898.0009  \n",
      "4  21213.9225  \n",
      "5  17667.7264  \n",
      "6  16892.2009  \n"
     ]
    }
   ],
   "source": [
    "data['High_Score'] *= data['High_Score']\n",
    "print(data)"
   ]
  },
  {
   "cell_type": "markdown",
   "id": "e2adff70",
   "metadata": {},
   "source": [
    "## Series"
   ]
  },
  {
   "cell_type": "markdown",
   "id": "88a71a5b",
   "metadata": {},
   "source": [
    "A dataframe is a collection of the **Series** pandas type. Each column in the DataFrame is a Series, so this means we can create a new DataFrame selecting only the series of interest."
   ]
  },
  {
   "cell_type": "code",
   "execution_count": 49,
   "id": "f297941f",
   "metadata": {},
   "outputs": [
    {
     "name": "stdout",
     "output_type": "stream",
     "text": [
      "   LSD_ppm  Avg_Math_Test_Score\n",
      "0     1.17                78.93\n",
      "1     2.97                58.20\n",
      "2     3.26                67.47\n",
      "3     4.69                37.47\n",
      "4     5.83                45.65\n",
      "5     6.00                32.92\n",
      "6     6.41                29.97\n"
     ]
    }
   ],
   "source": [
    "# column_list = ['LSD_ppm', 'Avg_Math_Test_Score']\n",
    "# clean_data = data[column_list]   \n",
    "clean_data = data[['LSD_ppm', 'Avg_Math_Test_Score']]\n",
    "print(clean_data)"
   ]
  },
  {
   "cell_type": "markdown",
   "id": "6856ce63",
   "metadata": {},
   "source": [
    "This means that, to create a single column DataFrame we just need to pass a list inside the square brackets."
   ]
  },
  {
   "cell_type": "code",
   "execution_count": 50,
   "id": "5bfe180b",
   "metadata": {},
   "outputs": [],
   "source": [
    "y = data[['Avg_Math_Test_Score']]"
   ]
  },
  {
   "cell_type": "code",
   "execution_count": 51,
   "id": "5c73f671",
   "metadata": {},
   "outputs": [
    {
     "name": "stdout",
     "output_type": "stream",
     "text": [
      "   LSD_ppm\n",
      "0     1.17\n",
      "1     2.97\n",
      "2     3.26\n",
      "3     4.69\n",
      "4     5.83\n",
      "5     6.00\n",
      "6     6.41\n"
     ]
    },
    {
     "data": {
      "text/plain": [
       "pandas.core.frame.DataFrame"
      ]
     },
     "execution_count": 51,
     "metadata": {},
     "output_type": "execute_result"
    }
   ],
   "source": [
    "X = data[['LSD_ppm']]\n",
    "print(X)\n",
    "type(X)"
   ]
  },
  {
   "cell_type": "markdown",
   "id": "93fa6690",
   "metadata": {},
   "source": [
    "### ✅ How to delete a column from DataFrame"
   ]
  },
  {
   "cell_type": "code",
   "execution_count": 53,
   "id": "0d57fc44",
   "metadata": {},
   "outputs": [
    {
     "name": "stdout",
     "output_type": "stream",
     "text": [
      "   Time_Delay_in_Minutes  LSD_ppm  Avg_Math_Test_Score  High_Score\n",
      "0                      5     1.17                78.93  32015.9449\n",
      "1                     15     2.97                58.20  25027.2400\n",
      "2                     30     3.26                67.47  28046.2009\n",
      "3                     60     4.69                37.47  18898.0009\n",
      "4                    120     5.83                45.65  21213.9225\n",
      "5                    240     6.00                32.92  17667.7264\n",
      "6                    480     6.41                29.97  16892.2009\n"
     ]
    }
   ],
   "source": [
    "del data['Test_Subject']\n",
    "print(data)"
   ]
  },
  {
   "cell_type": "code",
   "execution_count": null,
   "id": "25ebb5c2",
   "metadata": {},
   "outputs": [],
   "source": []
  }
 ],
 "metadata": {
  "celltoolbar": "Raw Cell Format",
  "kernelspec": {
   "display_name": "Python 3 (ipykernel)",
   "language": "python",
   "name": "python3"
  },
  "language_info": {
   "codemirror_mode": {
    "name": "ipython",
    "version": 3
   },
   "file_extension": ".py",
   "mimetype": "text/x-python",
   "name": "python",
   "nbconvert_exporter": "python",
   "pygments_lexer": "ipython3",
   "version": "3.9.12"
  }
 },
 "nbformat": 4,
 "nbformat_minor": 5
}
